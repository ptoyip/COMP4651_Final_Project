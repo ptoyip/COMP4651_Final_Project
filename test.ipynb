{
 "cells": [
  {
   "cell_type": "code",
   "execution_count": 37,
   "metadata": {},
   "outputs": [],
   "source": [
    "from pyspark.sql import SparkSession\n",
    "from pyspark.ml.feature import VectorAssembler\n",
    "from pyspark.ml.regression import RandomForestRegressor\n",
    "from pyspark.ml.evaluation import RegressionEvaluator\n",
    "spark = SparkSession.builder.appName('ReadCSV').getOrCreate()"
   ]
  },
  {
   "cell_type": "code",
   "execution_count": 38,
   "metadata": {},
   "outputs": [
    {
     "name": "stdout",
     "output_type": "stream",
     "text": [
      "+-----+---------+--------+-------+-------+-----+----------------+----------------+--------------------+----------------+----------------+--------------------+-----------+------------------+-----------+-----------+-----------+----------+\n",
      "|   id|clonesize|honeybee|bumbles|andrena|osmia|MaxOfUpperTRange|MinOfUpperTRange|AverageOfUpperTRange|MaxOfLowerTRange|MinOfLowerTRange|AverageOfLowerTRange|RainingDays|AverageRainingDays|   fruitset|  fruitmass|      seeds|     yield|\n",
      "+-----+---------+--------+-------+-------+-----+----------------+----------------+--------------------+----------------+----------------+--------------------+-----------+------------------+-----------+-----------+-----------+----------+\n",
      "|11383|     25.0|     0.5|   0.25|   0.38| 0.75|            69.7|            42.1|                58.2|            50.2|            24.3|                41.2|       24.0|              0.39|0.494677622|0.433081146|33.99420814|5643.36045|\n",
      "|15110|     12.5|    0.25|   0.25|   0.75| 0.75|            77.4|            46.8|                64.7|            55.8|            27.0|                45.8|       16.0|              0.26|0.583378727|0.484791782|40.03764422|7406.90248|\n",
      "| 8797|     12.5|    0.25|   0.25|    0.5| 0.63|            94.6|            57.2|                79.0|            68.2|            33.0|                55.9|        1.0|               0.1|0.597060641|0.494864674| 41.6216451|7669.81182|\n",
      "|12727|     12.5|    0.25|   0.25|   0.38| 0.63|            86.0|            52.0|                71.9|            62.0|            30.0|                50.8|       16.0|              0.26|0.534126224|0.449545727|36.95787336|6589.27898|\n",
      "| 3165|     25.0|     0.5|   0.25|   0.38| 0.63|            94.6|            57.2|                79.0|            68.2|            33.0|                55.9|       34.0|              0.56|0.392583006|0.381078645|29.83315835|4163.82304|\n",
      "| 4836|     12.5|    0.25|   0.25|    0.5| 0.63|            77.4|            46.8|                64.7|            55.8|            27.0|                45.8|       16.0|              0.26| 0.58337988|0.486889324|40.03902035|6320.96112|\n",
      "| 1728|     12.5|    0.25|   0.25|   0.38| 0.63|            69.7|            42.1|                58.2|            50.2|            24.3|                41.2|       24.0|              0.39|0.490016595|0.424902006|34.43568098|  5892.161|\n",
      "| 1971|     12.5|    0.25|   0.38|    0.5|  0.5|            69.7|            42.1|                58.2|            50.2|            24.3|                41.2|       34.0|              0.56|0.511750776|0.427683045|35.57209886|6254.65511|\n",
      "|  298|     25.0|     0.5|   0.38|   0.38|  0.5|            77.4|            46.8|                64.7|            55.8|            27.0|                45.8|       16.0|              0.26|0.502621602|0.403128905|37.77154371|6024.94599|\n",
      "| 5203|     12.5|    0.25|   0.25|   0.38| 0.75|            86.0|            52.0|                71.9|            62.0|            30.0|                50.8|       34.0|              0.56|0.563746659|0.455453173|34.70241183|5746.77703|\n",
      "| 1112|     25.0|     0.5|   0.38|    0.5| 0.63|            69.7|            42.1|                58.2|            50.2|            24.3|                41.2|       16.0|              0.26|0.588987285|0.484307576|40.86547798|7570.48492|\n",
      "| 7185|     25.0|     0.5|   0.38|   0.38|  0.5|            69.7|            42.1|                58.2|            50.2|            24.3|                41.2|       24.0|              0.39|0.535364693|0.442865602| 36.2542016| 6520.8976|\n",
      "| 4851|     25.0|     0.5|   0.38|   0.38|  0.5|            77.4|            46.8|                64.7|            55.8|            27.0|                45.8|       34.0|              0.56|0.583378727|0.486889324|35.55891105|6109.85047|\n",
      "| 6377|     25.0|     0.5|   0.25|   0.63|  0.5|            94.6|            57.2|                79.0|            68.2|            33.0|                55.9|        1.0|               0.1| 0.51884433|0.460369104|35.48700839|6620.09877|\n",
      "|12439|     25.0|     0.5|   0.25|   0.63| 0.75|            69.7|            42.1|                58.2|            50.2|            24.3|                41.2|       24.0|              0.39|0.450822025|0.401162763|32.02764698|4867.94772|\n",
      "| 1413|     12.5|    0.25|   0.25|   0.38| 0.63|            77.4|            46.8|                64.7|            55.8|            27.0|                45.8|        1.0|               0.1|0.603524723|0.500647106|42.16770498|8823.69011|\n",
      "| 2388|     12.5|    0.25|   0.38|   0.38| 0.63|            69.7|            42.1|                58.2|            50.2|            24.3|                41.2|        1.0|               0.1| 0.53427161|0.467219599|39.33777176|7284.81478|\n",
      "| 4374|     25.0|     0.5|   0.25|   0.63| 0.63|            69.7|            42.1|                58.2|            50.2|            24.3|                41.2|       34.0|              0.56|0.408797854| 0.37863215|32.84238532|4232.76231|\n",
      "|11532|     25.0|     0.5|   0.25|   0.63|  0.5|            94.6|            57.2|                79.0|            68.2|            33.0|                55.9|       34.0|              0.56|0.500183678|0.455238354|37.78237359|4945.79443|\n",
      "| 4239|     12.5|    0.25|   0.25|   0.75|  0.5|            77.4|            46.8|                64.7|            55.8|            27.0|                45.8|        1.0|               0.1|0.494584864|0.443754909|35.61618557|5750.88107|\n",
      "+-----+---------+--------+-------+-------+-----+----------------+----------------+--------------------+----------------+----------------+--------------------+-----------+------------------+-----------+-----------+-----------+----------+\n",
      "only showing top 20 rows\n",
      "\n"
     ]
    }
   ],
   "source": [
    "numPartition = 5\n",
    "# train_data = sc.textFile('./data/train.csv',numPartition).map(lambda line: line.split(\",\"))\n",
    "# test_data = sc.textFile('./data/test.csv',numPartition).map(lambda line: line.split(\",\"))\n",
    "# header = train_data.first()\n",
    "# train_data = train_data.filter(lambda line: line != header)\n",
    "# test_data = test_data.filter(lambda line: line != header)\n",
    "train_df = spark.read.csv('./data/train.csv',header=True,inferSchema=True).repartition(numPartition)\n",
    "test_df = spark.read.csv('./data/test.csv',header=True,inferSchema=True).repartition(numPartition)\n",
    "train_df.show()"
   ]
  },
  {
   "cell_type": "code",
   "execution_count": 42,
   "metadata": {},
   "outputs": [
    {
     "name": "stdout",
     "output_type": "stream",
     "text": [
      "+------------------+----------+--------------------+\n",
      "|        prediction|     yield|            features|\n",
      "+------------------+----------+--------------------+\n",
      "| 4917.964478479442|4476.81146|[0.0,25.0,0.5,0.2...|\n",
      "| 3892.121636462323|4112.89349|[22.0,25.0,0.5,0....|\n",
      "|6117.2562367932605|6687.25926|[23.0,12.5,0.25,0...|\n",
      "| 4625.148697969389|4641.00151|[28.0,12.5,0.25,0...|\n",
      "| 7083.189459823967|8263.28974|[46.0,12.5,0.25,0...|\n",
      "+------------------+----------+--------------------+\n",
      "only showing top 5 rows\n",
      "\n",
      "Root Mean Squared Error (RMSE) on test data = 583.535\n",
      "RandomForestRegressionModel: uid=RandomForestRegressor_997f0795b19d, numTrees=20, numFeatures=17\n"
     ]
    }
   ],
   "source": [
    "input_cols = train_df.columns[:-1]\n",
    "train_output_col = train_df.columns[-1]\n",
    "\n",
    "assembler = VectorAssembler(inputCols=input_cols,outputCol=\"features\")\n",
    "train_data = assembler.transform(train_df).select(\"features\",train_output_col)\n",
    "(train_data, val_data) = train_data.randomSplit([0.7,0.3])\n",
    "test_data = assembler.transform(test_df)\n",
    "\n",
    "rf = RandomForestRegressor(featuresCol = \"features\", labelCol = \"yield\",)\n",
    "# print(\"LogisticRegression parameters:\\n\" + lr.explainParams() + \"\\n\")\n",
    "model = rf.fit(train_data)\n",
    "predictions = model.transform(val_data)\n",
    "predictions.select(\"prediction\", \"yield\", \"features\").show(5)\n",
    "\n",
    "evaluator = RegressionEvaluator(\n",
    "    labelCol=\"yield\", predictionCol=\"prediction\", metricName=\"rmse\")\n",
    "rmse = evaluator.evaluate(predictions)\n",
    "print(\"Root Mean Squared Error (RMSE) on test data = %g\" % rmse)\n",
    "\n",
    "print(model)  # summary only"
   ]
  },
  {
   "cell_type": "code",
   "execution_count": null,
   "metadata": {},
   "outputs": [],
   "source": []
  }
 ],
 "metadata": {
  "kernelspec": {
   "display_name": "base",
   "language": "python",
   "name": "python3"
  },
  "language_info": {
   "codemirror_mode": {
    "name": "ipython",
    "version": 3
   },
   "file_extension": ".py",
   "mimetype": "text/x-python",
   "name": "python",
   "nbconvert_exporter": "python",
   "pygments_lexer": "ipython3",
   "version": "3.8.16"
  },
  "orig_nbformat": 4
 },
 "nbformat": 4,
 "nbformat_minor": 2
}
